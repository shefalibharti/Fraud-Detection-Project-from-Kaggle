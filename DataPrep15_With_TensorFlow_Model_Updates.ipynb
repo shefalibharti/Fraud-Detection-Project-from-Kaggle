{
  "nbformat": 4,
  "nbformat_minor": 0,
  "metadata": {
    "colab": {
      "name": "DataPrep15_With_TensorFlow_Model_Updates.ipynb",
      "version": "0.3.2",
      "provenance": [],
      "collapsed_sections": []
    },
    "kernelspec": {
      "name": "python3",
      "display_name": "Python 3"
    },
    "accelerator": "TPU"
  },
  "cells": [
    {
      "cell_type": "code",
      "metadata": {
        "id": "RKUsRwFf6Hj2",
        "colab_type": "code",
        "outputId": "68bc9c77-5563-46b1-96c8-355aff34751b",
        "colab": {
          "base_uri": "https://localhost:8080/",
          "height": 159
        }
      },
      "source": [
        "\n",
        "import numpy as np\n",
        "from sklearn.cluster import KMeans\n",
        "import matplotlib.pyplot as plt\n",
        "import random\n",
        "from sklearn.metrics import silhouette_score\n",
        "from sklearn.cluster import AgglomerativeClustering\n",
        "from sklearn import metrics\n",
        "from sklearn.preprocessing import LabelEncoder\n",
        "\n",
        "random.seed(42)\n",
        "\n",
        "from google.colab import drive\n",
        "drive.mount('/content/gdrive')\n",
        "\n",
        "#filePath =\"/content/gdrive/My Drive/ML_TeamProject/PS_20174392719_1491204439457_log.csv\"\n",
        "filePath =\"/content/gdrive/My Drive/PS_20174392719_1491204439457_log.csv\"\n",
        "\n",
        "\n",
        "import pandas as pd\n",
        "data = pd.read_csv(filePath, sep=\",\", index_col=0)\n",
        "\n",
        "\n"
      ],
      "execution_count": 1,
      "outputs": [
        {
          "output_type": "stream",
          "text": [
            "Go to this URL in a browser: https://accounts.google.com/o/oauth2/auth?client_id=947318989803-6bn6qk8qdgf4n4g3pfee6491hc0brc4i.apps.googleusercontent.com&redirect_uri=urn%3Aietf%3Awg%3Aoauth%3A2.0%3Aoob&scope=email%20https%3A%2F%2Fwww.googleapis.com%2Fauth%2Fdocs.test%20https%3A%2F%2Fwww.googleapis.com%2Fauth%2Fdrive%20https%3A%2F%2Fwww.googleapis.com%2Fauth%2Fdrive.photos.readonly%20https%3A%2F%2Fwww.googleapis.com%2Fauth%2Fpeopleapi.readonly&response_type=code\n",
            "\n",
            "Enter your authorization code:\n",
            "··········\n",
            "Mounted at /content/gdrive\n"
          ],
          "name": "stdout"
        },
        {
          "output_type": "stream",
          "text": [
            "/usr/local/lib/python3.6/dist-packages/numpy/lib/arraysetops.py:569: FutureWarning: elementwise comparison failed; returning scalar instead, but in the future will perform elementwise comparison\n",
            "  mask |= (ar1 == a)\n"
          ],
          "name": "stderr"
        }
      ]
    },
    {
      "cell_type": "markdown",
      "metadata": {
        "id": "HgLvNqT-PKWC",
        "colab_type": "text"
      },
      "source": [
        "# Dataset Selection\n",
        "Our original dataset has over 6 millions records. Due to CPU process limitation we are going to select about to just 1 million record. Since the dataset does not have time seriese feature we picked the data randomly. "
      ]
    },
    {
      "cell_type": "code",
      "metadata": {
        "id": "Qm5s7A38PDDO",
        "colab_type": "code",
        "outputId": "41bced61-9744-436d-cda1-0e96100fd87c",
        "colab": {
          "base_uri": "https://localhost:8080/",
          "height": 295
        }
      },
      "source": [
        "df = data.sample(n=950000, random_state=random.seed(42))\n",
        "\n",
        "print(df.info())\n",
        "\n",
        "#outFile=\"/content/gdrive/My Drive/ML_TeamProject/Data950k.csv\"\n",
        "#df.to_csv(outFile, index=False)\n"
      ],
      "execution_count": 2,
      "outputs": [
        {
          "output_type": "stream",
          "text": [
            "<class 'pandas.core.frame.DataFrame'>\n",
            "Int64Index: 950000 entries, 349 to 35\n",
            "Data columns (total 10 columns):\n",
            "type              950000 non-null object\n",
            "amount            950000 non-null float64\n",
            "nameOrig          950000 non-null object\n",
            "oldbalanceOrg     950000 non-null float64\n",
            "newbalanceOrig    950000 non-null float64\n",
            "nameDest          950000 non-null object\n",
            "oldbalanceDest    950000 non-null float64\n",
            "newbalanceDest    950000 non-null float64\n",
            "isFraud           950000 non-null int64\n",
            "isFlaggedFraud    950000 non-null int64\n",
            "dtypes: float64(5), int64(2), object(3)\n",
            "memory usage: 79.7+ MB\n",
            "None\n"
          ],
          "name": "stdout"
        }
      ]
    },
    {
      "cell_type": "markdown",
      "metadata": {
        "id": "QvkH0qmnR4Zo",
        "colab_type": "text"
      },
      "source": [
        ""
      ]
    },
    {
      "cell_type": "markdown",
      "metadata": {
        "id": "tHnRRSfmo57r",
        "colab_type": "text"
      },
      "source": [
        "#Check Data Quality\n",
        "The First observatio from .info() is showing no blank data in any of those randomly seleted rows "
      ]
    },
    {
      "cell_type": "code",
      "metadata": {
        "id": "zsk-QBozpJ6u",
        "colab_type": "code",
        "outputId": "701e6b2c-ece1-4f17-bd43-5154e088db44",
        "colab": {
          "base_uri": "https://localhost:8080/",
          "height": 208
        }
      },
      "source": [
        "print(df.describe())"
      ],
      "execution_count": 3,
      "outputs": [
        {
          "output_type": "stream",
          "text": [
            "             amount  oldbalanceOrg  ...        isFraud  isFlaggedFraud\n",
            "count  9.500000e+05   9.500000e+05  ...  950000.000000   950000.000000\n",
            "mean   1.803053e+05   8.304480e+05  ...       0.001241        0.000002\n",
            "std    6.162660e+05   2.881242e+06  ...       0.035207        0.001451\n",
            "min    0.000000e+00   0.000000e+00  ...       0.000000        0.000000\n",
            "25%    1.337762e+04   0.000000e+00  ...       0.000000        0.000000\n",
            "50%    7.471929e+04   1.414700e+04  ...       0.000000        0.000000\n",
            "75%    2.087199e+05   1.070475e+05  ...       0.000000        0.000000\n",
            "max    6.676127e+07   4.368662e+07  ...       1.000000        1.000000\n",
            "\n",
            "[8 rows x 7 columns]\n"
          ],
          "name": "stdout"
        }
      ]
    },
    {
      "cell_type": "markdown",
      "metadata": {
        "id": "IdtYuWz7pp-R",
        "colab_type": "text"
      },
      "source": [
        "#Observation 1: \n",
        "Less than 1 % of transactions flaged as fraud "
      ]
    },
    {
      "cell_type": "code",
      "metadata": {
        "id": "hyyu33f3p4lc",
        "colab_type": "code",
        "outputId": "6fc88f1a-95e8-4c42-9af3-bfb7d961fa91",
        "colab": {
          "base_uri": "https://localhost:8080/",
          "height": 156
        }
      },
      "source": [
        "df.iloc[0:6].mean()   #Added just for learning "
      ],
      "execution_count": 4,
      "outputs": [
        {
          "output_type": "execute_result",
          "data": {
            "text/plain": [
              "amount            1.536123e+05\n",
              "oldbalanceOrg     1.494818e+06\n",
              "newbalanceOrig    1.579338e+06\n",
              "oldbalanceDest    1.549014e+06\n",
              "newbalanceDest    1.487142e+06\n",
              "isFraud           0.000000e+00\n",
              "isFlaggedFraud    0.000000e+00\n",
              "dtype: float64"
            ]
          },
          "metadata": {
            "tags": []
          },
          "execution_count": 4
        }
      ]
    },
    {
      "cell_type": "markdown",
      "metadata": {
        "id": "5336puIPsOxv",
        "colab_type": "text"
      },
      "source": [
        "#Lets Plot\n",
        "Thinking of what type of the plot that we want to present.\n"
      ]
    },
    {
      "cell_type": "code",
      "metadata": {
        "id": "HGxEOlSsD6_w",
        "colab_type": "code",
        "outputId": "5750698e-fdec-4b7f-edbc-8a762a1d7759",
        "colab": {
          "base_uri": "https://localhost:8080/",
          "height": 387
        }
      },
      "source": [
        "import matplotlib.pyplot as plt\n",
        "import numpy as np\n",
        "\n",
        "\n",
        "%matplotlib inline\n",
        "\n",
        "amount_values=df['amount'].values\n",
        "plt.hist(amount_values)\n",
        "\n",
        "%matplotlib inline\n",
        "oldbalanceOrg_values=df['oldbalanceOrg'].values\n",
        "plt.hist(oldbalanceOrg_values)\n",
        "\n",
        "\n",
        "%matplotlib inline\n",
        "newbalanceOrig_values=df['newbalanceOrig'].values\n",
        "plt.hist(newbalanceOrig_values)\n",
        "\n",
        "%matplotlib inline\n",
        "oldbalanceDest_values=df['oldbalanceDest'].values\n",
        "plt.hist(oldbalanceDest_values)\n",
        "\n",
        "%matplotlib inline\n",
        "newbalanceDest_values=df['newbalanceDest'].values\n",
        "plt.hist(newbalanceDest_values)\n"
      ],
      "execution_count": 5,
      "outputs": [
        {
          "output_type": "execute_result",
          "data": {
            "text/plain": [
              "(array([9.48849e+05, 8.46000e+02, 1.73000e+02, 7.10000e+01, 3.20000e+01,\n",
              "        1.20000e+01, 4.00000e+00, 9.00000e+00, 3.00000e+00, 1.00000e+00]),\n",
              " array([0.00000000e+00, 3.55380484e+07, 7.10760967e+07, 1.06614145e+08,\n",
              "        1.42152193e+08, 1.77690242e+08, 2.13228290e+08, 2.48766338e+08,\n",
              "        2.84304387e+08, 3.19842435e+08, 3.55380484e+08]),\n",
              " <a list of 10 Patch objects>)"
            ]
          },
          "metadata": {
            "tags": []
          },
          "execution_count": 5
        },
        {
          "output_type": "display_data",
          "data": {
            "image/png": "[encoded data removed]",
            "text/plain": [
              "<Figure size 432x288 with 1 Axes>"
            ]
          },
          "metadata": {
            "tags": []
          }
        }
      ]
    },
    {
      "cell_type": "code",
      "metadata": {
        "id": "5hLhdlGPVSS0",
        "colab_type": "code",
        "outputId": "f80d4a06-54f3-42b7-9cef-fe8f407da3a1",
        "colab": {
          "base_uri": "https://localhost:8080/",
          "height": 139
        }
      },
      "source": [
        "df['amount'].values\n",
        "\n",
        "from sklearn import preprocessing\n",
        "\n",
        "min_max_scaler1 = preprocessing.MinMaxScaler()\n",
        "np_scaled1 = min_max_scaler1.fit_transform(df[['amount']])\n",
        "amount_df_normalized = pd.DataFrame(np_scaled1)\n",
        "amount_df_normalized.values\n",
        "\n",
        "min_max_scaler2 = preprocessing.MinMaxScaler()\n",
        "np_scaled2 = min_max_scaler2.fit_transform(df[['oldbalanceOrg']])\n",
        "oldbalanceOrg_df_normalized = pd.DataFrame(np_scaled2)\n",
        "oldbalanceOrg_df_normalized.values\n",
        "\n",
        "min_max_scaler3 = preprocessing.MinMaxScaler()\n",
        "np_scaled3 = min_max_scaler3.fit_transform(df[['newbalanceOrig']])\n",
        "newbalanceOrig_df_normalized = pd.DataFrame(np_scaled3)\n",
        "newbalanceOrig_df_normalized.values\n",
        "\n",
        "min_max_scaler4 = preprocessing.MinMaxScaler()\n",
        "np_scaled4 = min_max_scaler4.fit_transform(df[['oldbalanceDest']])\n",
        "oldbalanceDest_df_normalized = pd.DataFrame(np_scaled4)\n",
        "oldbalanceDest_df_normalized.values\n",
        "\n",
        "min_max_scaler5 = preprocessing.MinMaxScaler()\n",
        "np_scaled5 = min_max_scaler5.fit_transform(df[['newbalanceDest']])\n",
        "newbalanceDest_df_normalized = pd.DataFrame(np_scaled5)\n",
        "newbalanceDest_df_normalized.values\n",
        "\n",
        "\n"
      ],
      "execution_count": 6,
      "outputs": [
        {
          "output_type": "execute_result",
          "data": {
            "text/plain": [
              "array([[1.89971268e-03],\n",
              "       [3.88722314e-03],\n",
              "       [1.93209417e-02],\n",
              "       ...,\n",
              "       [3.44264241e-02],\n",
              "       [8.74732335e-05],\n",
              "       [8.38343617e-04]])"
            ]
          },
          "metadata": {
            "tags": []
          },
          "execution_count": 6
        }
      ]
    },
    {
      "cell_type": "markdown",
      "metadata": {
        "id": "P0D-wVMSpt73",
        "colab_type": "text"
      },
      "source": [
        "# Plots "
      ]
    },
    {
      "cell_type": "code",
      "metadata": {
        "id": "y555MMoWp3Ro",
        "colab_type": "code",
        "outputId": "e7c2b00c-807d-4530-ee7c-9cef7cbbbc49",
        "colab": {
          "base_uri": "https://localhost:8080/",
          "height": 156
        }
      },
      "source": [
        "import seaborn as sns\n",
        "\n",
        "#%matplotlib inline\n",
        "#plt.hist(amount_df_normalized.values)\n",
        "#sns.distplot(amount_df_normalized.values)\n",
        "#sns.distplot(amount_df_normalized.values, hist=False, rug=True)\n",
        "#sns.distplot(amount_df_normalized.values, bins=40, kde=False, rug=True)\n",
        "#sns.kdeplot(amount_df_normalized.values, shade=True)\n",
        "#sns.distplot(amount_values, bins=40, kde=False, rug=True);\n",
        "\n",
        "sns.pairplot(df, hue='amount', palette='coolwarm')"
      ],
      "execution_count": 0,
      "outputs": [
        {
          "output_type": "stream",
          "text": [
            "/usr/local/lib/python3.6/dist-packages/statsmodels/nonparametric/kde.py:487: RuntimeWarning: invalid value encountered in true_divide\n",
            "  binned = fast_linbin(X, a, b, gridsize) / (delta * nobs)\n",
            "/usr/local/lib/python3.6/dist-packages/statsmodels/nonparametric/kdetools.py:34: RuntimeWarning: invalid value encountered in double_scalars\n",
            "  FAC1 = 2*(np.pi*bw/RANGE)**2\n",
            "/usr/local/lib/python3.6/dist-packages/numpy/core/_methods.py:140: RuntimeWarning: Degrees of freedom <= 0 for slice\n",
            "  keepdims=keepdims)\n",
            "/usr/local/lib/python3.6/dist-packages/numpy/core/_methods.py:132: RuntimeWarning: invalid value encountered in double_scalars\n",
            "  ret = ret.dtype.type(ret / rcount)\n"
          ],
          "name": "stderr"
        }
      ]
    },
    {
      "cell_type": "markdown",
      "metadata": {
        "id": "WC9OHvyips4Q",
        "colab_type": "text"
      },
      "source": [
        ""
      ]
    },
    {
      "cell_type": "code",
      "metadata": {
        "id": "S_ngrZQxJYVz",
        "colab_type": "code",
        "outputId": "c752906b-5d07-4c5d-ef81-a2acdfa57fb0",
        "colab": {
          "base_uri": "https://localhost:8080/",
          "height": 287
        }
      },
      "source": [
        "import seaborn as sns\n",
        "sns.distplot(amount_df_normalized.values)"
      ],
      "execution_count": 0,
      "outputs": [
        {
          "output_type": "execute_result",
          "data": {
            "text/plain": [
              "<matplotlib.axes._subplots.AxesSubplot at 0x7f203b0a57b8>"
            ]
          },
          "metadata": {
            "tags": []
          },
          "execution_count": 7
        },
        {
          "output_type": "display_data",
          "data": {
            "image/png": "[encoded data removed]",
            "text/plain": [
              "<Figure size 432x288 with 1 Axes>"
            ]
          },
          "metadata": {
            "tags": []
          }
        }
      ]
    },
    {
      "cell_type": "code",
      "metadata": {
        "id": "iVmh1Nv1KZU6",
        "colab_type": "code",
        "outputId": "7ee41508-d5b4-40bd-d642-0babb278e961",
        "colab": {
          "base_uri": "https://localhost:8080/",
          "height": 770
        }
      },
      "source": [
        "import seaborn as sns\n",
        "#sns.distplot(df['amount'].values, kde=False, bins=30 )\n",
        "#sns.jointplot(x='oldbalanceOrg', y='amount', data=df, kind='hex')\n",
        "sns.jointplot(x='oldbalanceOrg', y='amount', data=df, kind='reg', pallete='coolwarm')"
      ],
      "execution_count": 0,
      "outputs": [
        {
          "output_type": "error",
          "ename": "TypeError",
          "evalue": "ignored",
          "traceback": [
            "\u001b[0;31m---------------------------------------------------------------------------\u001b[0m",
            "\u001b[0;31mTypeError\u001b[0m                                 Traceback (most recent call last)",
            "\u001b[0;32m<ipython-input-20-c690bc6f1ef1>\u001b[0m in \u001b[0;36m<module>\u001b[0;34m()\u001b[0m\n\u001b[1;32m      2\u001b[0m \u001b[0;31m#sns.distplot(df['amount'].values, kde=False, bins=30 )\u001b[0m\u001b[0;34m\u001b[0m\u001b[0;34m\u001b[0m\u001b[0;34m\u001b[0m\u001b[0m\n\u001b[1;32m      3\u001b[0m \u001b[0;31m#sns.jointplot(x='oldbalanceOrg', y='amount', data=df, kind='hex')\u001b[0m\u001b[0;34m\u001b[0m\u001b[0;34m\u001b[0m\u001b[0;34m\u001b[0m\u001b[0m\n\u001b[0;32m----> 4\u001b[0;31m \u001b[0msns\u001b[0m\u001b[0;34m.\u001b[0m\u001b[0mjointplot\u001b[0m\u001b[0;34m(\u001b[0m\u001b[0mx\u001b[0m\u001b[0;34m=\u001b[0m\u001b[0;34m'oldbalanceOrg'\u001b[0m\u001b[0;34m,\u001b[0m \u001b[0my\u001b[0m\u001b[0;34m=\u001b[0m\u001b[0;34m'amount'\u001b[0m\u001b[0;34m,\u001b[0m \u001b[0mdata\u001b[0m\u001b[0;34m=\u001b[0m\u001b[0mdf\u001b[0m\u001b[0;34m,\u001b[0m \u001b[0mkind\u001b[0m\u001b[0;34m=\u001b[0m\u001b[0;34m'reg'\u001b[0m\u001b[0;34m,\u001b[0m \u001b[0mpallete\u001b[0m\u001b[0;34m=\u001b[0m\u001b[0;34m'coolwarm'\u001b[0m\u001b[0;34m)\u001b[0m\u001b[0;34m\u001b[0m\u001b[0;34m\u001b[0m\u001b[0m\n\u001b[0m",
            "\u001b[0;32m/usr/local/lib/python3.6/dist-packages/seaborn/axisgrid.py\u001b[0m in \u001b[0;36mjointplot\u001b[0;34m(x, y, data, kind, stat_func, color, height, ratio, space, dropna, xlim, ylim, joint_kws, marginal_kws, annot_kws, **kwargs)\u001b[0m\n\u001b[1;32m   2326\u001b[0m \u001b[0;34m\u001b[0m\u001b[0m\n\u001b[1;32m   2327\u001b[0m         \u001b[0mjoint_kws\u001b[0m\u001b[0;34m.\u001b[0m\u001b[0msetdefault\u001b[0m\u001b[0;34m(\u001b[0m\u001b[0;34m\"color\"\u001b[0m\u001b[0;34m,\u001b[0m \u001b[0mcolor\u001b[0m\u001b[0;34m)\u001b[0m\u001b[0;34m\u001b[0m\u001b[0;34m\u001b[0m\u001b[0m\n\u001b[0;32m-> 2328\u001b[0;31m         \u001b[0mgrid\u001b[0m\u001b[0;34m.\u001b[0m\u001b[0mplot_joint\u001b[0m\u001b[0;34m(\u001b[0m\u001b[0mregplot\u001b[0m\u001b[0;34m,\u001b[0m \u001b[0;34m**\u001b[0m\u001b[0mjoint_kws\u001b[0m\u001b[0;34m)\u001b[0m\u001b[0;34m\u001b[0m\u001b[0;34m\u001b[0m\u001b[0m\n\u001b[0m\u001b[1;32m   2329\u001b[0m \u001b[0;34m\u001b[0m\u001b[0m\n\u001b[1;32m   2330\u001b[0m     \u001b[0;32melif\u001b[0m \u001b[0mkind\u001b[0m\u001b[0;34m.\u001b[0m\u001b[0mstartswith\u001b[0m\u001b[0;34m(\u001b[0m\u001b[0;34m\"resid\"\u001b[0m\u001b[0;34m)\u001b[0m\u001b[0;34m:\u001b[0m\u001b[0;34m\u001b[0m\u001b[0;34m\u001b[0m\u001b[0m\n",
            "\u001b[0;32m/usr/local/lib/python3.6/dist-packages/seaborn/axisgrid.py\u001b[0m in \u001b[0;36mplot_joint\u001b[0;34m(self, func, **kwargs)\u001b[0m\n\u001b[1;32m   1782\u001b[0m         \"\"\"\n\u001b[1;32m   1783\u001b[0m         \u001b[0mplt\u001b[0m\u001b[0;34m.\u001b[0m\u001b[0msca\u001b[0m\u001b[0;34m(\u001b[0m\u001b[0mself\u001b[0m\u001b[0;34m.\u001b[0m\u001b[0max_joint\u001b[0m\u001b[0;34m)\u001b[0m\u001b[0;34m\u001b[0m\u001b[0;34m\u001b[0m\u001b[0m\n\u001b[0;32m-> 1784\u001b[0;31m         \u001b[0mfunc\u001b[0m\u001b[0;34m(\u001b[0m\u001b[0mself\u001b[0m\u001b[0;34m.\u001b[0m\u001b[0mx\u001b[0m\u001b[0;34m,\u001b[0m \u001b[0mself\u001b[0m\u001b[0;34m.\u001b[0m\u001b[0my\u001b[0m\u001b[0;34m,\u001b[0m \u001b[0;34m**\u001b[0m\u001b[0mkwargs\u001b[0m\u001b[0;34m)\u001b[0m\u001b[0;34m\u001b[0m\u001b[0;34m\u001b[0m\u001b[0m\n\u001b[0m\u001b[1;32m   1785\u001b[0m \u001b[0;34m\u001b[0m\u001b[0m\n\u001b[1;32m   1786\u001b[0m         \u001b[0;32mreturn\u001b[0m \u001b[0mself\u001b[0m\u001b[0;34m\u001b[0m\u001b[0;34m\u001b[0m\u001b[0m\n",
            "\u001b[0;31mTypeError\u001b[0m: regplot() got an unexpected keyword argument 'pallete'"
          ]
        },
        {
          "output_type": "display_data",
          "data": {
            "image/png": "[encoded data removed]",
            "text/plain": [
              "<Figure size 432x432 with 3 Axes>"
            ]
          },
          "metadata": {
            "tags": []
          }
        }
      ]
    },
    {
      "cell_type": "code",
      "metadata": {
        "id": "sxdbc3K_NWUs",
        "colab_type": "code",
        "outputId": "8ba754f4-cdbf-4c28-d267-d0dc38d05ef7",
        "colab": {
          "base_uri": "https://localhost:8080/",
          "height": 287
        }
      },
      "source": [
        "\n",
        "\n",
        "#%matplotlib inline\n",
        "#plt.hist(oldbalanceOrg_df_normalized.values)\n",
        "sns.distplot(oldbalanceOrg_df_normalized.values)\n"
      ],
      "execution_count": 0,
      "outputs": [
        {
          "output_type": "execute_result",
          "data": {
            "text/plain": [
              "<matplotlib.axes._subplots.AxesSubplot at 0x7fa8143425f8>"
            ]
          },
          "metadata": {
            "tags": []
          },
          "execution_count": 9
        },
        {
          "output_type": "display_data",
          "data": {
            "image/png": "[encoded data removed]",
            "text/plain": [
              "<Figure size 432x288 with 1 Axes>"
            ]
          },
          "metadata": {
            "tags": []
          }
        }
      ]
    },
    {
      "cell_type": "code",
      "metadata": {
        "id": "zgmRCPGSoRrJ",
        "colab_type": "code",
        "outputId": "7961a443-86c6-4d46-de2f-4b7168ade723",
        "colab": {
          "base_uri": "https://localhost:8080/",
          "height": 287
        }
      },
      "source": [
        "#%matplotlib inline\n",
        "#plt.hist(newbalanceOrig_df_normalized.values)\n",
        "sns.distplot(newbalanceOrig_df_normalized.values)\n",
        "\n"
      ],
      "execution_count": 0,
      "outputs": [
        {
          "output_type": "execute_result",
          "data": {
            "text/plain": [
              "<matplotlib.axes._subplots.AxesSubplot at 0x7fe8fbe5d160>"
            ]
          },
          "metadata": {
            "tags": []
          },
          "execution_count": 24
        },
        {
          "output_type": "display_data",
          "data": {
            "image/png": "[encoded data removed]",
            "text/plain": [
              "<Figure size 432x288 with 1 Axes>"
            ]
          },
          "metadata": {
            "tags": []
          }
        }
      ]
    },
    {
      "cell_type": "code",
      "metadata": {
        "id": "Esm1TWZAoTPK",
        "colab_type": "code",
        "outputId": "abb85478-3d34-46a8-d518-2b6e6f1181d4",
        "colab": {
          "base_uri": "https://localhost:8080/",
          "height": 287
        }
      },
      "source": [
        "\n",
        "\n",
        "#%matplotlib inline\n",
        "#plt.hist(oldbalanceDest_df_normalized.values)\n",
        "sns.distplot(oldbalanceDest_df_normalized.values)\n",
        "\n"
      ],
      "execution_count": 0,
      "outputs": [
        {
          "output_type": "execute_result",
          "data": {
            "text/plain": [
              "<matplotlib.axes._subplots.AxesSubplot at 0x7fa8128cec18>"
            ]
          },
          "metadata": {
            "tags": []
          },
          "execution_count": 10
        },
        {
          "output_type": "display_data",
          "data": {
            "image/png": "[encoded data removed]",
            "text/plain": [
              "<Figure size 432x288 with 1 Axes>"
            ]
          },
          "metadata": {
            "tags": []
          }
        }
      ]
    },
    {
      "cell_type": "code",
      "metadata": {
        "id": "VnWhmfegoUxr",
        "colab_type": "code",
        "outputId": "21711292-4fdd-4ca2-eba4-7efcb17e57dc",
        "colab": {
          "base_uri": "https://localhost:8080/",
          "height": 287
        }
      },
      "source": [
        "#%matplotlib inline\n",
        "#plt.hist(newbalanceDest_df_normalized.values)\n",
        "sns.distplot(newbalanceDest_df_normalized.values)"
      ],
      "execution_count": 0,
      "outputs": [
        {
          "output_type": "execute_result",
          "data": {
            "text/plain": [
              "<matplotlib.axes._subplots.AxesSubplot at 0x7fa8128e45c0>"
            ]
          },
          "metadata": {
            "tags": []
          },
          "execution_count": 11
        },
        {
          "output_type": "display_data",
          "data": {
            "image/png": "[encoded data removed]",
            "text/plain": [
              "<Figure size 432x288 with 1 Axes>"
            ]
          },
          "metadata": {
            "tags": []
          }
        }
      ]
    },
    {
      "cell_type": "code",
      "metadata": {
        "id": "c0LGqnDpPtd3",
        "colab_type": "code",
        "outputId": "714af971-20ae-4e3a-c8e2-b01931c3d572",
        "colab": {
          "base_uri": "https://localhost:8080/",
          "height": 52
        }
      },
      "source": [
        "np.unique(df['nameOrig'])"
      ],
      "execution_count": 7,
      "outputs": [
        {
          "output_type": "execute_result",
          "data": {
            "text/plain": [
              "array(['C1000006873', 'C1000008582', 'C1000009272', ..., 'C999996950',\n",
              "       'C999998175', 'C999999254'], dtype=object)"
            ]
          },
          "metadata": {
            "tags": []
          },
          "execution_count": 7
        }
      ]
    },
    {
      "cell_type": "code",
      "metadata": {
        "id": "meRZ96CKQAPl",
        "colab_type": "code",
        "outputId": "ba827fe7-56f2-485f-f90a-82d30709a5fb",
        "colab": {
          "base_uri": "https://localhost:8080/",
          "height": 52
        }
      },
      "source": [
        "np.unique(df['nameDest'])"
      ],
      "execution_count": 8,
      "outputs": [
        {
          "output_type": "execute_result",
          "data": {
            "text/plain": [
              "array(['C1000004082', 'C1000004940', 'C1000013769', ..., 'M999976090',\n",
              "       'M999996397', 'M999998692'], dtype=object)"
            ]
          },
          "metadata": {
            "tags": []
          },
          "execution_count": 8
        }
      ]
    },
    {
      "cell_type": "markdown",
      "metadata": {
        "id": "cbWT8P0TR7d3",
        "colab_type": "text"
      },
      "source": [
        "# Transform Catagorial data to numeric\n",
        "\n"
      ]
    },
    {
      "cell_type": "code",
      "metadata": {
        "id": "hA3nBsB3k8F6",
        "colab_type": "code",
        "outputId": "983d014e-058a-4040-ae4f-9777f3b4d226",
        "colab": {
          "base_uri": "https://localhost:8080/",
          "height": 164
        }
      },
      "source": [
        "\n",
        "isFraud = df['isFraud']\n",
        "isFlaggedFraud = df['isFlaggedFraud']\n",
        "\n",
        "new_df = pd.DataFrame()\n",
        "#new_def= del df['isFlaggedFraud']\n",
        "new_df= df.drop(columns=['isFraud','isFlaggedFraud','type','nameOrig','nameDest'])\n",
        "\n",
        "lb_make = LabelEncoder()\n",
        "new_df[\"type_transform\"] = lb_make.fit_transform(df[\"type\"])\n",
        "new_df[\"nameOrig_transform\"] = lb_make.fit_transform(df[\"nameOrig\"])\n",
        "new_df[\"nameDest_transform\"] = lb_make.fit_transform(df[\"nameDest\"])\n",
        "\n",
        "#new_df= new_df.drop(columns=['isFraud','isFlaggedFraud','type','nameOrig','nameDest'])\n",
        "\n",
        "new_df.head(3)"
      ],
      "execution_count": 9,
      "outputs": [
        {
          "output_type": "execute_result",
          "data": {
            "text/html": [
              "<div>\n",
              "<style scoped>\n",
              "    .dataframe tbody tr th:only-of-type {\n",
              "        vertical-align: middle;\n",
              "    }\n",
              "\n",
              "    .dataframe tbody tr th {\n",
              "        vertical-align: top;\n",
              "    }\n",
              "\n",
              "    .dataframe thead th {\n",
              "        text-align: right;\n",
              "    }\n",
              "</style>\n",
              "<table border=\"1\" class=\"dataframe\">\n",
              "  <thead>\n",
              "    <tr style=\"text-align: right;\">\n",
              "      <th></th>\n",
              "      <th>amount</th>\n",
              "      <th>oldbalanceOrg</th>\n",
              "      <th>newbalanceOrig</th>\n",
              "      <th>oldbalanceDest</th>\n",
              "      <th>newbalanceDest</th>\n",
              "      <th>type_transform</th>\n",
              "      <th>nameOrig_transform</th>\n",
              "      <th>nameDest_transform</th>\n",
              "    </tr>\n",
              "    <tr>\n",
              "      <th>step</th>\n",
              "      <th></th>\n",
              "      <th></th>\n",
              "      <th></th>\n",
              "      <th></th>\n",
              "      <th></th>\n",
              "      <th></th>\n",
              "      <th></th>\n",
              "      <th></th>\n",
              "    </tr>\n",
              "  </thead>\n",
              "  <tbody>\n",
              "    <tr>\n",
              "      <th>349</th>\n",
              "      <td>498229.88</td>\n",
              "      <td>2322349.97</td>\n",
              "      <td>2820579.85</td>\n",
              "      <td>1173350.69</td>\n",
              "      <td>675120.81</td>\n",
              "      <td>0</td>\n",
              "      <td>633030</td>\n",
              "      <td>84884</td>\n",
              "    </tr>\n",
              "    <tr>\n",
              "      <th>277</th>\n",
              "      <td>133913.26</td>\n",
              "      <td>6521536.06</td>\n",
              "      <td>6655449.32</td>\n",
              "      <td>1515356.49</td>\n",
              "      <td>1381443.24</td>\n",
              "      <td>0</td>\n",
              "      <td>187765</td>\n",
              "      <td>155018</td>\n",
              "    </tr>\n",
              "    <tr>\n",
              "      <th>347</th>\n",
              "      <td>260906.45</td>\n",
              "      <td>124839.00</td>\n",
              "      <td>0.00</td>\n",
              "      <td>6605379.17</td>\n",
              "      <td>6866285.62</td>\n",
              "      <td>1</td>\n",
              "      <td>133181</td>\n",
              "      <td>228636</td>\n",
              "    </tr>\n",
              "  </tbody>\n",
              "</table>\n",
              "</div>"
            ],
            "text/plain": [
              "         amount  oldbalanceOrg  ...  nameOrig_transform  nameDest_transform\n",
              "step                            ...                                        \n",
              "349   498229.88     2322349.97  ...              633030               84884\n",
              "277   133913.26     6521536.06  ...              187765              155018\n",
              "347   260906.45      124839.00  ...              133181              228636\n",
              "\n",
              "[3 rows x 8 columns]"
            ]
          },
          "metadata": {
            "tags": []
          },
          "execution_count": 9
        }
      ]
    },
    {
      "cell_type": "markdown",
      "metadata": {
        "id": "WKuXU5Uw8Y6O",
        "colab_type": "text"
      },
      "source": [
        "#Creating Train and Test data\n",
        "we are spliting data to 80% for training and 20% for testing"
      ]
    },
    {
      "cell_type": "code",
      "metadata": {
        "id": "D_NNzRh08e0e",
        "colab_type": "code",
        "colab": {}
      },
      "source": [
        "from sklearn.model_selection import train_test_split\n",
        "X_train, X_test, y_train, y_test = train_test_split(new_df,isFraud , test_size=0.2)\n"
      ],
      "execution_count": 0,
      "outputs": []
    },
    {
      "cell_type": "markdown",
      "metadata": {
        "id": "ZK3OXyJR8CFZ",
        "colab_type": "text"
      },
      "source": [
        "#Normalizing Data"
      ]
    },
    {
      "cell_type": "code",
      "metadata": {
        "id": "QmWFPurN8F4Y",
        "colab_type": "code",
        "colab": {}
      },
      "source": [
        "from sklearn.preprocessing import StandardScaler\n",
        "\n",
        "scaler = StandardScaler()\n",
        "X_train = scaler.fit_transform(X_train)\n",
        "X_test = scaler.transform(X_test)"
      ],
      "execution_count": 0,
      "outputs": []
    },
    {
      "cell_type": "markdown",
      "metadata": {
        "id": "oBqP1TqJbPrm",
        "colab_type": "text"
      },
      "source": [
        "#Modeling\n",
        "The first approch for this classification was to building a model based on SVM, but due to dealing with a large dataset the processing time got time out to run on google Colab . So we decided to use SGD for classification \n"
      ]
    },
    {
      "cell_type": "code",
      "metadata": {
        "id": "s1OU-QKnjbUk",
        "colab_type": "code",
        "outputId": "ada138c9-25ec-4398-da9f-8ca565154ab1",
        "colab": {
          "base_uri": "https://localhost:8080/",
          "height": 35
        }
      },
      "source": [
        "from sklearn.linear_model import SGDClassifier\n",
        "\n",
        "clf = SGDClassifier(max_iter=5, tol=-np.infty, random_state=42)\n",
        "clf.fit(X_train, y_train)\n",
        "y_pred = clf.predict(X_test)\n",
        "\n",
        "print (clf.score(X_test, y_test))"
      ],
      "execution_count": 15,
      "outputs": [
        {
          "output_type": "stream",
          "text": [
            "0.9988789473684211\n"
          ],
          "name": "stdout"
        }
      ]
    },
    {
      "cell_type": "code",
      "metadata": {
        "id": "cq8N5L0vc_ZU",
        "colab_type": "code",
        "colab": {}
      },
      "source": [
        ""
      ],
      "execution_count": 0,
      "outputs": []
    },
    {
      "cell_type": "markdown",
      "metadata": {
        "id": "xSrt7aZGi6Wn",
        "colab_type": "text"
      },
      "source": [
        "#Evaluate Model\n"
      ]
    },
    {
      "cell_type": "code",
      "metadata": {
        "id": "bcHGnlyoQr9H",
        "colab_type": "code",
        "outputId": "3d77a77f-6ea6-4798-898d-cef5cc6db2d7",
        "colab": {
          "base_uri": "https://localhost:8080/",
          "height": 88
        }
      },
      "source": [
        "print (y_pred)\n",
        "\n",
        "print(\"Accuracy:\",metrics.accuracy_score(y_test, y_pred))\n",
        "\n",
        "print(\"Precision:\",metrics.precision_score(y_test, y_pred))\n",
        "\n",
        "print(\"Recall:\",metrics.recall_score(y_test, y_pred))\n",
        "\n"
      ],
      "execution_count": 19,
      "outputs": [
        {
          "output_type": "stream",
          "text": [
            "[0 0 0 ... 0 0 0]\n",
            "Accuracy: 0.9988789473684211\n",
            "Precision: 1.0\n",
            "Recall: 0.12704918032786885\n"
          ],
          "name": "stdout"
        }
      ]
    },
    {
      "cell_type": "code",
      "metadata": {
        "id": "Y2g-cysUPl1C",
        "colab_type": "code",
        "outputId": "a8537146-48d2-46c9-b0a4-d964906701db",
        "colab": {
          "base_uri": "https://localhost:8080/",
          "height": 52
        }
      },
      "source": [
        "\n",
        "print (\"Confusion Matrix:\", metrics. confusion_matrix(y_test, y_pred))"
      ],
      "execution_count": 20,
      "outputs": [
        {
          "output_type": "stream",
          "text": [
            "Confusion Matrix: [[189756      0]\n",
            " [   213     31]]\n"
          ],
          "name": "stdout"
        }
      ]
    },
    {
      "cell_type": "code",
      "metadata": {
        "colab_type": "code",
        "outputId": "6e300f27-977f-4679-f759-f3145d17b3eb",
        "id": "dRIgan62Q9bu",
        "colab": {
          "base_uri": "https://localhost:8080/",
          "height": 35
        }
      },
      "source": [
        "\n",
        "print (\"Area Under the ROC Curve:\", metrics. roc_auc_score(y_test,y_pred))\n"
      ],
      "execution_count": 21,
      "outputs": [
        {
          "output_type": "stream",
          "text": [
            "Area Under the ROC Curve: 0.5635245901639344\n"
          ],
          "name": "stdout"
        }
      ]
    },
    {
      "cell_type": "code",
      "metadata": {
        "id": "tAZ3gWS1dOEA",
        "colab_type": "code",
        "outputId": "746423ee-1e6b-4052-824a-c4a817e7326b",
        "colab": {
          "base_uri": "https://localhost:8080/",
          "height": 141
        }
      },
      "source": [
        "from sklearn.tree import DecisionTreeClassifier\n",
        "from sklearn.tree.export import export_text\n",
        "tree_clf = DecisionTreeClassifier(max_depth=2, random_state=42)\n",
        "tree_clf.fit(X_train, y_train)\n",
        "y_pred = tree_clf.predict(X_test)\n",
        "\n",
        "print (tree_clf.score(X_test, y_test))\n",
        "print(\"Accuracy:\",metrics.accuracy_score(y_test, y_pred))\n",
        "\n",
        "print(\"Precision:\",metrics.precision_score(y_test, y_pred))\n",
        "\n",
        "print(\"Recall:\",metrics.recall_score(y_test, y_pred))\n",
        "\n",
        "print (\"Confusion Matrix:\", metrics. confusion_matrix(y_test, y_pred))\n",
        "\n",
        "print (\"Area Under the ROC Curve:\", metrics. roc_auc_score(y_test,y_pred))\n"
      ],
      "execution_count": 22,
      "outputs": [
        {
          "output_type": "stream",
          "text": [
            "0.9988684210526316\n",
            "Accuracy: 0.9988684210526316\n",
            "Precision: 0.967741935483871\n",
            "Recall: 0.12295081967213115\n",
            "Confusion Matrix: [[189755      1]\n",
            " [   214     30]]\n",
            "Area Under the ROC Curve: 0.5614727748732713\n"
          ],
          "name": "stdout"
        }
      ]
    },
    {
      "cell_type": "code",
      "metadata": {
        "id": "Q0i5kJJgfYam",
        "colab_type": "code",
        "outputId": "a3f9ed4f-f168-45c6-a0fb-362368d560fe",
        "colab": {
          "base_uri": "https://localhost:8080/",
          "height": 422
        }
      },
      "source": [
        "from sklearn.tree import export_graphviz\n",
        "from sklearn.externals.six import StringIO  \n",
        "from IPython.display import Image  \n",
        "import pydotplus\n",
        "\n",
        "dot_data = StringIO()\n",
        "export_graphviz(tree_clf, out_file=dot_data,  \n",
        "                filled=True, rounded=True,\n",
        "                special_characters=True,class_names=['0','1'])\n",
        "graph = pydotplus.graph_from_dot_data(dot_data.getvalue())  \n",
        "graph.write_png('diabetes.png')\n",
        "Image(graph.create_png())"
      ],
      "execution_count": 23,
      "outputs": [
        {
          "output_type": "execute_result",
          "data": {
            "image/png": "[encoded data removed]",
            "text/plain": [
              "<IPython.core.display.Image object>"
            ]
          },
          "metadata": {
            "tags": []
          },
          "execution_count": 23
        }
      ]
    },
    {
      "cell_type": "markdown",
      "metadata": {
        "id": "yTee5ju-wCxX",
        "colab_type": "text"
      },
      "source": [
        "#Imbalence data - Over Sampling \n",
        "\n",
        "Since our data set is imbalence we are going try over sampling.  "
      ]
    },
    {
      "cell_type": "code",
      "metadata": {
        "id": "ICE11ZThScFo",
        "colab_type": "code",
        "outputId": "b0a5efae-f60b-44b7-eeab-203d59a3e83c",
        "colab": {
          "base_uri": "https://localhost:8080/",
          "height": 281
        }
      },
      "source": [
        "def plot_2d_space(X, y, label='Classes'):   \n",
        "    colors = ['#1F77B4', '#FF7F0E']\n",
        "    markers = ['o', 's']\n",
        "    for l, c, m in zip(np.unique(y), colors, markers):\n",
        "        plt.scatter(\n",
        "            X[y==l, 0],\n",
        "            X[y==l, 1],\n",
        "            c=c, label=l, marker=m\n",
        "        )\n",
        "    plt.title(label)\n",
        "    plt.legend(loc='upper right')\n",
        "    plt.show()\n",
        "    \n",
        "# Since the dataset in imbalanced tyring the Over-sampling \n",
        "\n",
        "from imblearn.over_sampling import SMOTE\n",
        "\n",
        "smote = SMOTE(ratio='minority')\n",
        "X_train_over, y_train_over = smote.fit_sample(X_train, y_train)\n",
        "plot_2d_space(X_train_over, y_train_over, 'SMOTE over-sampling')\n",
        "\n"
      ],
      "execution_count": 24,
      "outputs": [
        {
          "output_type": "display_data",
          "data": {
            "image/png": "[encoded data removed]",
            "text/plain": [
              "<Figure size 432x288 with 1 Axes>"
            ]
          },
          "metadata": {
            "tags": []
          }
        }
      ]
    },
    {
      "cell_type": "markdown",
      "metadata": {
        "id": "e7qQxvK_4qVY",
        "colab_type": "text"
      },
      "source": [
        "## Logistic Regression"
      ]
    },
    {
      "cell_type": "code",
      "metadata": {
        "id": "3FVqEIkt4xO-",
        "colab_type": "code",
        "colab": {
          "base_uri": "https://localhost:8080/",
          "height": 88
        },
        "outputId": "60a20883-ede1-4a40-8fa9-199b3e40372f"
      },
      "source": [
        " from sklearn.linear_model import LogisticRegression\n",
        "# Train model\n",
        "lr = LogisticRegression(solver='liblinear').fit(X_train_over, y_train_over)\n",
        " \n",
        "# Predict on training set\n",
        "lr_pred = lr.predict(X_test)\n",
        "\n",
        "# Checking accuracy\n",
        "print(\"Accuracy_over:\",metrics.accuracy_score(y_test, lr_pred))\n",
        "print(\"Precision_over:\",metrics.precision_score(y_test, lr_pred))\n",
        "print(\"Recall_over:\",metrics.recall_score(y_test, lr_pred))\n",
        "print(\"F1 Score:\", metrics.f1_score(y_test, lr_pred))\n",
        "#print (\"Confusion Matrix:\",metrics.confusion_matrix((y_test,lr_pred))\n",
        "#print (\"Area Under the ROC Curve:\",metrics.roc_auc_score(y_test, lr_pred))"
      ],
      "execution_count": 41,
      "outputs": [
        {
          "output_type": "stream",
          "text": [
            "Accuracy_over: 0.9547578947368421\n",
            "Precision_over: 0.02567014993184916\n",
            "Recall_over: 0.9262295081967213\n",
            "F1 Score: 0.04995579133510168\n"
          ],
          "name": "stdout"
        }
      ]
    },
    {
      "cell_type": "markdown",
      "metadata": {
        "id": "tcFSQEn4nago",
        "colab_type": "text"
      },
      "source": [
        "## SGD Classifier"
      ]
    },
    {
      "cell_type": "code",
      "metadata": {
        "id": "H0jdOq5Kndr6",
        "colab_type": "code",
        "outputId": "c5d4d28d-c887-44b0-f98e-4c1de180f86e",
        "colab": {
          "base_uri": "https://localhost:8080/",
          "height": 134
        }
      },
      "source": [
        "from sklearn.linear_model import SGDClassifier\n",
        "\n",
        "sgd_clf = SGDClassifier(max_iter=5, tol=-np.infty, random_state=42)\n",
        "sgd_clf.fit(X_train_over, y_train_over)\n",
        "y_pred_over=sgd_clf.predict(X_test)\n",
        "\n",
        "print (sgd_clf.score(X_test, y_test))\n",
        "print(\"Accuracy_over:\",metrics.accuracy_score(y_test, y_pred_over))\n",
        "print(\"Precision_over:\",metrics.precision_score(y_test, y_pred_over))\n",
        "print(\"Recall_over:\",metrics.recall_score(y_test, y_pred_over))\n",
        "print (\"Confusion Matrix:\", metrics. confusion_matrix(y_test, y_pred_over))\n",
        "print (\"Area Under the ROC Curve:\", metrics. roc_auc_score(y_test,y_pred_over))"
      ],
      "execution_count": 0,
      "outputs": [
        {
          "output_type": "stream",
          "text": [
            "0.9603526315789473\n",
            "Accuracy_over: 0.9603526315789473\n",
            "Precision_over: 0.02483422181770901\n",
            "Recall_over: 0.8526785714285714\n",
            "Confusion Matrix: [[182276   7500]\n",
            " [    33    191]]\n",
            "Area Under the ROC Curve: 0.9065791474460115\n"
          ],
          "name": "stdout"
        }
      ]
    },
    {
      "cell_type": "markdown",
      "metadata": {
        "id": "8qv8U9H9nMtS",
        "colab_type": "text"
      },
      "source": [
        "## Decision Tree"
      ]
    },
    {
      "cell_type": "code",
      "metadata": {
        "id": "ShXA7D19xzh_",
        "colab_type": "code",
        "outputId": "c53e0304-7f5a-4235-a878-140c77633f56",
        "colab": {
          "base_uri": "https://localhost:8080/",
          "height": 159
        }
      },
      "source": [
        "\n",
        "from sklearn.tree import DecisionTreeClassifier\n",
        "from sklearn.tree.export import export_text\n",
        "tree_clf = DecisionTreeClassifier(max_depth=5, random_state=42)\n",
        "tree_clf.fit(X_train_over, y_train_over)\n",
        "y_pred_over_train=tree_clf.predict(X_train_over)\n",
        "y_pred_over=tree_clf.predict(X_test)\n",
        "\n",
        "\n",
        "print (tree_clf.score(X_test, y_test))\n",
        "print(\"Accuracy_over_train:\",metrics.accuracy_score(y_train_over, y_pred_over_train))\n",
        "print(\"Accuracy_over_test:\",metrics.accuracy_score(y_test, y_pred_over))\n",
        "print(\"Precision_over:\",metrics.precision_score(y_test, y_pred_over))\n",
        "print(\"Recall_over:\",metrics.recall_score(y_test, y_pred_over))\n",
        "print (\"Confusion Matrix:\", metrics. confusion_matrix(y_test, y_pred_over))\n",
        "print (\"Area Under the ROC Curve:\", metrics. roc_auc_score(y_test,y_pred_over))"
      ],
      "execution_count": 26,
      "outputs": [
        {
          "output_type": "stream",
          "text": [
            "0.9703894736842106\n",
            "Accuracy_over_train: 0.983683874240019\n",
            "Accuracy_over_test: 0.9703894736842106\n",
            "Precision_over: 0.04125468803273099\n",
            "Recall_over: 0.9918032786885246\n",
            "Confusion Matrix: [[184132   5624]\n",
            " [     2    242]]\n",
            "Area Under the ROC Curve: 0.9810826085889766\n"
          ],
          "name": "stdout"
        }
      ]
    },
    {
      "cell_type": "markdown",
      "metadata": {
        "id": "B9kh1WUQnm6R",
        "colab_type": "text"
      },
      "source": [
        ""
      ]
    },
    {
      "cell_type": "code",
      "metadata": {
        "id": "8DN59dE_nnaS",
        "colab_type": "code",
        "outputId": "35bd098a-d09f-4526-f849-6a1219db0114",
        "colab": {
          "base_uri": "https://localhost:8080/",
          "height": 422
        }
      },
      "source": [
        "from sklearn.tree import export_graphviz\n",
        "from sklearn.externals.six import StringIO  \n",
        "from IPython.display import Image  \n",
        "import pydotplus\n",
        "\n",
        "dot_data = StringIO()\n",
        "export_graphviz(tree_clf, out_file=dot_data,  \n",
        "                filled=True, rounded=True,\n",
        "                special_characters=True,class_names=['0','1'])\n",
        "graph = pydotplus.graph_from_dot_data(dot_data.getvalue())  \n",
        "graph.write_png('diabetes.png')\n",
        "Image(graph.create_png())"
      ],
      "execution_count": 0,
      "outputs": [
        {
          "output_type": "execute_result",
          "data": {
            "image/png": "[encoded data removed]",
            "text/plain": [
              "<IPython.core.display.Image object>"
            ]
          },
          "metadata": {
            "tags": []
          },
          "execution_count": 23
        }
      ]
    },
    {
      "cell_type": "markdown",
      "metadata": {
        "id": "sbfgcnpOltqI",
        "colab_type": "text"
      },
      "source": [
        "# Random Forest Classifier"
      ]
    },
    {
      "cell_type": "code",
      "metadata": {
        "id": "W5ckn52Eh80e",
        "colab_type": "code",
        "outputId": "853aecf9-e8ae-4f62-ab54-c04f1f7a91fd",
        "colab": {
          "base_uri": "https://localhost:8080/",
          "height": 118
        }
      },
      "source": [
        "from sklearn.ensemble import RandomForestClassifier\n",
        "#Create a Gaussian Classifier\n",
        "rnd_clf=RandomForestClassifier(n_estimators=100)\n",
        "\n",
        "#Train the model using the training sets y_pred=clf.predict(X_test)\n",
        "rnd_clf.fit(X_train_over, y_train_over)\n",
        "\n",
        "y_pred_over=rnd_clf.predict(X_test)\n",
        "\n",
        "#Import scikit-learn metrics module for accuracy calculation\n",
        "from sklearn import metrics\n",
        "# Model Accuracy\n",
        "print(\"Accuracy_over:\",metrics.accuracy_score(y_test, y_pred_over))\n",
        "print(\"Precision_over:\",metrics.precision_score(y_test, y_pred_over))\n",
        "print(\"Recall_over:\",metrics.recall_score(y_test, y_pred_over))\n",
        "print (\"Confusion Matrix Over:\", metrics. confusion_matrix(y_test, y_pred_over))\n",
        "print (\"Area Under the ROC Curve Over:\", metrics. roc_auc_score(y_test,y_pred_over))"
      ],
      "execution_count": 0,
      "outputs": [
        {
          "output_type": "stream",
          "text": [
            "Accuracy_over: 0.9987315789473684\n",
            "Precision_over: 0.47961630695443647\n",
            "Recall_over: 0.8928571428571429\n",
            "Confusion Matrix Over: [[189559    217]\n",
            " [    24    200]]\n",
            "Area Under the ROC Curve Over: 0.9458568447613427\n"
          ],
          "name": "stdout"
        }
      ]
    },
    {
      "cell_type": "markdown",
      "metadata": {
        "id": "S5MqVQlol4WY",
        "colab_type": "text"
      },
      "source": [
        "# Voting Classifier"
      ]
    },
    {
      "cell_type": "code",
      "metadata": {
        "id": "gHvXVWLul52J",
        "colab_type": "code",
        "outputId": "9aaa1f56-e2b0-4a38-a6a6-048e82317d7f",
        "colab": {
          "base_uri": "https://localhost:8080/",
          "height": 118
        }
      },
      "source": [
        "from sklearn.ensemble import VotingClassifier\n",
        "voting_clf = VotingClassifier(\n",
        "    estimators=[('dt', tree_clf), ('rf', rnd_clf), ('sgc', sgd_clf)],\n",
        "    voting='hard')\n",
        "voting_clf.fit(X_train_over, y_train_over)\n",
        "\n"
      ],
      "execution_count": 0,
      "outputs": [
        {
          "output_type": "stream",
          "text": [
            "Accuracy_over: 0.9603526315789473\n",
            "Precision_over: 0.02483422181770901\n",
            "Recall_over: 0.8526785714285714\n",
            "Confusion Matrix Over: [[182276   7500]\n",
            " [    33    191]]\n",
            "Area Under the ROC Curve Over: 0.9065791474460115\n"
          ],
          "name": "stdout"
        }
      ]
    },
    {
      "cell_type": "code",
      "metadata": {
        "id": "XCB62bhvsfXH",
        "colab_type": "code",
        "outputId": "9b0262c0-e4a2-4d95-89ce-4637b26662b0",
        "colab": {
          "base_uri": "https://localhost:8080/",
          "height": 118
        }
      },
      "source": [
        "y_pred_over=voting_clf.predict(X_test)\n",
        "#Import scikit-learn metrics module for accuracy calculation\n",
        "from sklearn import metrics\n",
        "# Model Accuracy\n",
        "print(\"Accuracy_over:\",metrics.accuracy_score(y_test, y_pred_over))\n",
        "print(\"Precision_over:\",metrics.precision_score(y_test, y_pred_over))\n",
        "print(\"Recall_over:\",metrics.recall_score(y_test, y_pred_over))\n",
        "print (\"Confusion Matrix Over:\", metrics. confusion_matrix(y_test, y_pred_over))\n",
        "print (\"Area Under the ROC Curve Over:\", metrics. roc_auc_score(y_test,y_pred_over))"
      ],
      "execution_count": 0,
      "outputs": [
        {
          "output_type": "stream",
          "text": [
            "Accuracy_over: 0.9886368421052631\n",
            "Precision_over: 0.08494208494208494\n",
            "Recall_over: 0.8839285714285714\n",
            "Confusion Matrix Over: [[187643   2133]\n",
            " [    26    198]]\n",
            "Area Under the ROC Curve Over: 0.9363445023907885\n"
          ],
          "name": "stdout"
        }
      ]
    },
    {
      "cell_type": "code",
      "metadata": {
        "id": "W3IC-IlJtEcT",
        "colab_type": "code",
        "outputId": "f55c29e1-0721-41e1-d9ff-88b95f10c123",
        "colab": {
          "base_uri": "https://localhost:8080/",
          "height": 353
        }
      },
      "source": [
        "#from sklearn.metrics import accuracy_score\n",
        "\n",
        "#for voting_clf in (tree_clf, rnd_clf, sgd_clf, voting_clf):\n",
        " #   voting_clf.fit(X_train_over, y_train_over)\n",
        "  #  y_pred_over=voting_clf.predict(X_test)\n",
        "   # print(\"train:\",clf.__class__.__name__, accuracy_score(y_train, voting_clf.predict(X_train_over)))\n",
        "    #print(\"test:\",clf.__class__.__name__, accuracy_score(y_test, y_pred_over))\n",
        "    #print(\"==================================================================\")\n",
        "    #print(\"==================================================================\")\n",
        "    #print(\"==================================================================\")"
      ],
      "execution_count": 0,
      "outputs": [
        {
          "output_type": "stream",
          "text": [
            "train: SGDClassifier 0.9989197368421052\n",
            "test: SGDClassifier 0.9990105263157895\n",
            "==================================================================\n",
            "==================================================================\n",
            "==================================================================\n",
            "train: SGDClassifier 0.9989197368421052\n",
            "test: SGDClassifier 0.9990105263157895\n",
            "==================================================================\n",
            "==================================================================\n",
            "==================================================================\n",
            "train: SGDClassifier 0.9989197368421052\n",
            "test: SGDClassifier 0.9990105263157895\n",
            "==================================================================\n",
            "==================================================================\n",
            "==================================================================\n",
            "train: SGDClassifier 0.9989197368421052\n",
            "test: SGDClassifier 0.9990105263157895\n",
            "==================================================================\n",
            "==================================================================\n",
            "==================================================================\n"
          ],
          "name": "stdout"
        }
      ]
    },
    {
      "cell_type": "markdown",
      "metadata": {
        "id": "V30aCYB7YlqI",
        "colab_type": "text"
      },
      "source": [
        "#A combination of over-sampling and under-sampling"
      ]
    },
    {
      "cell_type": "code",
      "metadata": {
        "id": "ryYFOWrZ0hJg",
        "colab_type": "code",
        "colab": {}
      },
      "source": [
        "from imblearn.combine import SMOTETomek\n",
        "\n",
        "smt = SMOTETomek(ratio='auto')\n",
        "X_train_smt, y_train_smt = smt.fit_sample(X_train, y_train)\n",
        "\n",
        "\n",
        "clf.fit(X_train_smt, y_train_smt)\n",
        "y_pred_smt = clf.predict(X_test)\n",
        "\n",
        "print (clf.score(X_test, y_test))\n",
        "print(\"Accuracy_smt:\",metrics.accuracy_score(y_test, y_pred_smt))\n",
        "print(\"Precision_smt:\",metrics.precision_score(y_test, y_pred_smt))\n",
        "print(\"Recall_smt:\",metrics.recall_score(y_test, y_pred_smt))"
      ],
      "execution_count": 0,
      "outputs": []
    },
    {
      "cell_type": "code",
      "metadata": {
        "id": "j_abL9NT1fcQ",
        "colab_type": "code",
        "outputId": "8de10786-11df-4f94-93f1-1e068357fccf",
        "colab": {
          "base_uri": "https://localhost:8080/",
          "height": 235
        }
      },
      "source": [
        "from sklearn.decomposition import PCA \n",
        "\n",
        "pca = PCA(n_components = 3) \n",
        "pca.fit(X_train_smt) \n",
        "X_train_pca_smt = pca.transform(X_train_smt) \n",
        "\n",
        "pca.fit(X_test) \n",
        "X_test_pca = pca.transform(X_test) \n",
        "\n",
        "\n",
        "\n",
        "from sklearn.linear_model import SGDClassifier\n",
        "clf = SGDClassifier(max_iter=10, tol=-np.infty, random_state=42, alpha=0.01)\n",
        "\n",
        "clf.fit(X_train_pca_smt, y_train_smt)\n",
        "y_pred_pca_smt = clf.predict(X_test_pca)\n",
        "\n",
        "from sklearn import metrics\n",
        "print (clf.score(X_test_pca, y_test))\n",
        "print(\"Accuracy_smt_pca:\",metrics.accuracy_score(y_test, y_pred_pca_smt))\n",
        "print(\"Precision_smt_pca:\",metrics.precision_score(y_test, y_pred_pca_smt))\n",
        "print(\"Recall_smt_pca:\",metrics.recall_score(y_test, y_pred_pca_smt))\n"
      ],
      "execution_count": 0,
      "outputs": [
        {
          "output_type": "error",
          "ename": "NameError",
          "evalue": "ignored",
          "traceback": [
            "\u001b[0;31m---------------------------------------------------------------------------\u001b[0m",
            "\u001b[0;31mNameError\u001b[0m                                 Traceback (most recent call last)",
            "\u001b[0;32m<ipython-input-14-269f534dc919>\u001b[0m in \u001b[0;36m<module>\u001b[0;34m()\u001b[0m\n\u001b[1;32m      2\u001b[0m \u001b[0;34m\u001b[0m\u001b[0m\n\u001b[1;32m      3\u001b[0m \u001b[0mpca\u001b[0m \u001b[0;34m=\u001b[0m \u001b[0mPCA\u001b[0m\u001b[0;34m(\u001b[0m\u001b[0mn_components\u001b[0m \u001b[0;34m=\u001b[0m \u001b[0;36m3\u001b[0m\u001b[0;34m)\u001b[0m\u001b[0;34m\u001b[0m\u001b[0;34m\u001b[0m\u001b[0m\n\u001b[0;32m----> 4\u001b[0;31m \u001b[0mpca\u001b[0m\u001b[0;34m.\u001b[0m\u001b[0mfit\u001b[0m\u001b[0;34m(\u001b[0m\u001b[0mX_train_smt\u001b[0m\u001b[0;34m)\u001b[0m\u001b[0;34m\u001b[0m\u001b[0;34m\u001b[0m\u001b[0m\n\u001b[0m\u001b[1;32m      5\u001b[0m \u001b[0mX_train_pca_smt\u001b[0m \u001b[0;34m=\u001b[0m \u001b[0mpca\u001b[0m\u001b[0;34m.\u001b[0m\u001b[0mtransform\u001b[0m\u001b[0;34m(\u001b[0m\u001b[0mX_train_smt\u001b[0m\u001b[0;34m)\u001b[0m\u001b[0;34m\u001b[0m\u001b[0;34m\u001b[0m\u001b[0m\n\u001b[1;32m      6\u001b[0m \u001b[0;34m\u001b[0m\u001b[0m\n",
            "\u001b[0;31mNameError\u001b[0m: name 'X_train_smt' is not defined"
          ]
        }
      ]
    },
    {
      "cell_type": "code",
      "metadata": {
        "id": "Wc30FyqW4tiS",
        "colab_type": "code",
        "outputId": "6025ec2c-71ef-4fa6-86e0-d37d486bddc2",
        "colab": {
          "base_uri": "https://localhost:8080/",
          "height": 141
        }
      },
      "source": [
        "from sklearn.decomposition import PCA \n",
        "\n",
        "pca = PCA(n_components = 3) \n",
        "pca.fit(X_train) \n",
        "X_train_pca = pca.transform(X_train) \n",
        "\n",
        "pca.fit(X_test) \n",
        "X_test_pca = pca.transform(X_test) \n",
        "\n",
        "\n",
        "\n",
        "from sklearn.linear_model import SGDClassifier\n",
        "clf = SGDClassifier(max_iter=10, tol=-np.infty, random_state=42, alpha=0.01)\n",
        "\n",
        "clf.fit(X_train_pca, y_train)\n",
        "y_pred_pca_smt = clf.predict(X_test_pca)\n",
        "\n",
        "from sklearn import metrics\n",
        "print (clf.score(X_test_pca, y_test))\n",
        "print(\"Accuracy_smt_pca:\",metrics.accuracy_score(y_test, y_pred_pca_smt))\n",
        "print(\"Precision_smt_pca:\",metrics.precision_score(y_test, y_pred_pca_smt))\n",
        "print(\"Recall_smt_pca:\",metrics.recall_score(y_test, y_pred_pca_smt))\n"
      ],
      "execution_count": 0,
      "outputs": [
        {
          "output_type": "stream",
          "text": [
            "0.9987631578947368\n",
            "Accuracy_smt_pca: 0.9987631578947368\n",
            "Precision_smt_pca: 0.0\n",
            "Recall_smt_pca: 0.0\n"
          ],
          "name": "stdout"
        },
        {
          "output_type": "stream",
          "text": [
            "/usr/local/lib/python3.6/dist-packages/sklearn/metrics/classification.py:1437: UndefinedMetricWarning: Precision is ill-defined and being set to 0.0 due to no predicted samples.\n",
            "  'precision', 'predicted', average, warn_for)\n"
          ],
          "name": "stderr"
        }
      ]
    },
    {
      "cell_type": "markdown",
      "metadata": {
        "id": "6xZADcLZty9H",
        "colab_type": "text"
      },
      "source": [
        "### **Tensorflow Model\n",
        "\n",
        "The goal is to try TensorFlow 2.0 based DNN model \n",
        "\n"
      ]
    },
    {
      "cell_type": "code",
      "metadata": {
        "id": "bAyy8bPgtuR5",
        "colab_type": "code",
        "outputId": "27821da4-4952-4a5f-f4f9-5dc9e7c134d0",
        "colab": {
          "base_uri": "https://localhost:8080/",
          "height": 505
        }
      },
      "source": [
        "!pip install tensorflow-gpu==2.0.0-alpha0\n",
        "import tensorflow as tf"
      ],
      "execution_count": 0,
      "outputs": [
        {
          "output_type": "stream",
          "text": [
            "Collecting tensorflow-gpu==2.0.0-alpha0\n",
            "\u001b[?25l  Downloading https://files.pythonhosted.org/packages/1a/66/32cffad095253219d53f6b6c2a436637bbe45ac4e7be0244557210dc3918/tensorflow_gpu-2.0.0a0-cp36-cp36m-manylinux1_x86_64.whl (332.1MB)\n",
            "\u001b[K     |████████████████████████████████| 332.1MB 44kB/s \n",
            "\u001b[?25hRequirement already satisfied: google-pasta>=0.1.2 in /usr/local/lib/python3.6/dist-packages (from tensorflow-gpu==2.0.0-alpha0) (0.1.7)\n",
            "Requirement already satisfied: six>=1.10.0 in /usr/local/lib/python3.6/dist-packages (from tensorflow-gpu==2.0.0-alpha0) (1.12.0)\n",
            "Requirement already satisfied: keras-preprocessing>=1.0.5 in /usr/local/lib/python3.6/dist-packages (from tensorflow-gpu==2.0.0-alpha0) (1.1.0)\n",
            "Requirement already satisfied: gast>=0.2.0 in /usr/local/lib/python3.6/dist-packages (from tensorflow-gpu==2.0.0-alpha0) (0.2.2)\n",
            "Requirement already satisfied: protobuf>=3.6.1 in /usr/local/lib/python3.6/dist-packages (from tensorflow-gpu==2.0.0-alpha0) (3.7.1)\n",
            "Collecting tb-nightly<1.14.0a20190302,>=1.14.0a20190301 (from tensorflow-gpu==2.0.0-alpha0)\n",
            "\u001b[?25l  Downloading https://files.pythonhosted.org/packages/a9/51/aa1d756644bf4624c03844115e4ac4058eff77acd786b26315f051a4b195/tb_nightly-1.14.0a20190301-py3-none-any.whl (3.0MB)\n",
            "\u001b[K     |████████████████████████████████| 3.0MB 30.1MB/s \n",
            "\u001b[?25hRequirement already satisfied: keras-applications>=1.0.6 in /usr/local/lib/python3.6/dist-packages (from tensorflow-gpu==2.0.0-alpha0) (1.0.8)\n",
            "Requirement already satisfied: termcolor>=1.1.0 in /usr/local/lib/python3.6/dist-packages (from tensorflow-gpu==2.0.0-alpha0) (1.1.0)\n",
            "Requirement already satisfied: grpcio>=1.8.6 in /usr/local/lib/python3.6/dist-packages (from tensorflow-gpu==2.0.0-alpha0) (1.15.0)\n",
            "Requirement already satisfied: numpy<2.0,>=1.14.5 in /usr/local/lib/python3.6/dist-packages (from tensorflow-gpu==2.0.0-alpha0) (1.16.4)\n",
            "Collecting tf-estimator-nightly<1.14.0.dev2019030116,>=1.14.0.dev2019030115 (from tensorflow-gpu==2.0.0-alpha0)\n",
            "\u001b[?25l  Downloading https://files.pythonhosted.org/packages/13/82/f16063b4eed210dc2ab057930ac1da4fbe1e91b7b051a6c8370b401e6ae7/tf_estimator_nightly-1.14.0.dev2019030115-py2.py3-none-any.whl (411kB)\n",
            "\u001b[K     |████████████████████████████████| 419kB 35.1MB/s \n",
            "\u001b[?25hRequirement already satisfied: absl-py>=0.7.0 in /usr/local/lib/python3.6/dist-packages (from tensorflow-gpu==2.0.0-alpha0) (0.7.1)\n",
            "Requirement already satisfied: wheel>=0.26 in /usr/local/lib/python3.6/dist-packages (from tensorflow-gpu==2.0.0-alpha0) (0.33.4)\n",
            "Requirement already satisfied: astor>=0.6.0 in /usr/local/lib/python3.6/dist-packages (from tensorflow-gpu==2.0.0-alpha0) (0.8.0)\n",
            "Requirement already satisfied: setuptools in /usr/local/lib/python3.6/dist-packages (from protobuf>=3.6.1->tensorflow-gpu==2.0.0-alpha0) (41.0.1)\n",
            "Requirement already satisfied: markdown>=2.6.8 in /usr/local/lib/python3.6/dist-packages (from tb-nightly<1.14.0a20190302,>=1.14.0a20190301->tensorflow-gpu==2.0.0-alpha0) (3.1.1)\n",
            "Requirement already satisfied: werkzeug>=0.11.15 in /usr/local/lib/python3.6/dist-packages (from tb-nightly<1.14.0a20190302,>=1.14.0a20190301->tensorflow-gpu==2.0.0-alpha0) (0.15.5)\n",
            "Requirement already satisfied: h5py in /usr/local/lib/python3.6/dist-packages (from keras-applications>=1.0.6->tensorflow-gpu==2.0.0-alpha0) (2.8.0)\n",
            "Installing collected packages: tb-nightly, tf-estimator-nightly, tensorflow-gpu\n",
            "Successfully installed tb-nightly-1.14.0a20190301 tensorflow-gpu-2.0.0a0 tf-estimator-nightly-1.14.0.dev2019030115\n"
          ],
          "name": "stdout"
        }
      ]
    },
    {
      "cell_type": "markdown",
      "metadata": {
        "id": "8XlbuTxnuO7L",
        "colab_type": "text"
      },
      "source": [
        "Define input layer, hidden layers, output layers"
      ]
    },
    {
      "cell_type": "code",
      "metadata": {
        "id": "xgF5-WXArDW_",
        "colab_type": "code",
        "outputId": "1a036734-b1a6-483d-f7a2-2595557d4676",
        "colab": {
          "base_uri": "https://localhost:8080/",
          "height": 35
        }
      },
      "source": [
        "from tensorflow import keras\n",
        "\n",
        "inputs = keras.Input(shape=(8,))\n",
        "inputs.shape"
      ],
      "execution_count": 0,
      "outputs": [
        {
          "output_type": "execute_result",
          "data": {
            "text/plain": [
              "TensorShape([None, 8])"
            ]
          },
          "metadata": {
            "tags": []
          },
          "execution_count": 17
        }
      ]
    },
    {
      "cell_type": "code",
      "metadata": {
        "id": "O0V7aKbRsCNY",
        "colab_type": "code",
        "colab": {}
      },
      "source": [
        "from tensorflow.keras import layers\n",
        "dense = layers.Dense(8, activation='relu')\n",
        "xi = dense(inputs)"
      ],
      "execution_count": 0,
      "outputs": []
    },
    {
      "cell_type": "code",
      "metadata": {
        "id": "j045nQ9QrK8h",
        "colab_type": "code",
        "colab": {}
      },
      "source": [
        "x1 = layers.Dense(15, activation='relu')(xi)\n",
        "x2 = layers.Dense(13, activation='relu')(x1)\n",
        "x3 = layers.Dense(11, activation='relu')(x2)\n",
        "x4 = layers.Dense(7, activation='relu')(x3)\n",
        "x5 = layers.Dense(4, activation='relu')(x4)\n",
        "x6 = layers.Dense(2, activation='relu')(x5)"
      ],
      "execution_count": 0,
      "outputs": []
    },
    {
      "cell_type": "code",
      "metadata": {
        "id": "JOlC39YSrL3O",
        "colab_type": "code",
        "colab": {}
      },
      "source": [
        "outputs = layers.Dense(1, activation='softmax')(x6)"
      ],
      "execution_count": 0,
      "outputs": []
    },
    {
      "cell_type": "code",
      "metadata": {
        "id": "Vz-kn-a-rMaI",
        "colab_type": "code",
        "colab": {}
      },
      "source": [
        "model = keras.Model(inputs=inputs, outputs=outputs)"
      ],
      "execution_count": 0,
      "outputs": []
    },
    {
      "cell_type": "code",
      "metadata": {
        "id": "nBdDgRSRrMed",
        "colab_type": "code",
        "outputId": "b20dcee1-26db-450e-ba3c-f69364472a62",
        "colab": {
          "base_uri": "https://localhost:8080/",
          "height": 468
        }
      },
      "source": [
        "model.summary()"
      ],
      "execution_count": 0,
      "outputs": [
        {
          "output_type": "stream",
          "text": [
            "Model: \"model\"\n",
            "_________________________________________________________________\n",
            "Layer (type)                 Output Shape              Param #   \n",
            "=================================================================\n",
            "input_1 (InputLayer)         [(None, 8)]               0         \n",
            "_________________________________________________________________\n",
            "dense (Dense)                (None, 8)                 72        \n",
            "_________________________________________________________________\n",
            "dense_1 (Dense)              (None, 15)                135       \n",
            "_________________________________________________________________\n",
            "dense_2 (Dense)              (None, 13)                208       \n",
            "_________________________________________________________________\n",
            "dense_3 (Dense)              (None, 11)                154       \n",
            "_________________________________________________________________\n",
            "dense_4 (Dense)              (None, 7)                 84        \n",
            "_________________________________________________________________\n",
            "dense_5 (Dense)              (None, 4)                 32        \n",
            "_________________________________________________________________\n",
            "dense_6 (Dense)              (None, 2)                 10        \n",
            "_________________________________________________________________\n",
            "dense_7 (Dense)              (None, 1)                 3         \n",
            "=================================================================\n",
            "Total params: 698\n",
            "Trainable params: 698\n",
            "Non-trainable params: 0\n",
            "_________________________________________________________________\n"
          ],
          "name": "stdout"
        }
      ]
    },
    {
      "cell_type": "code",
      "metadata": {
        "id": "tkVgiSR1rMm3",
        "colab_type": "code",
        "outputId": "33dc6be5-8e04-4793-9d12-a0b6b897e9c9",
        "colab": {
          "base_uri": "https://localhost:8080/",
          "height": 977
        }
      },
      "source": [
        "keras.utils.plot_model(model, 'my_first_model_with_shape_info.png', show_shapes=True)"
      ],
      "execution_count": 0,
      "outputs": [
        {
          "output_type": "execute_result",
          "data": {
            "image/png": "[encoded data removed]",
            "text/plain": [
              "<IPython.core.display.Image object>"
            ]
          },
          "metadata": {
            "tags": []
          },
          "execution_count": 24
        }
      ]
    },
    {
      "cell_type": "markdown",
      "metadata": {
        "id": "poWJiBBduig2",
        "colab_type": "text"
      },
      "source": [
        "Compile the model, including setting the learning rate"
      ]
    },
    {
      "cell_type": "code",
      "metadata": {
        "id": "a6Xwurl1rWe5",
        "colab_type": "code",
        "colab": {}
      },
      "source": [
        "model.compile(loss='binary_crossentropy',\n",
        "              optimizer=keras.optimizers.Adam(lr=0.001),\n",
        "              metrics=['accuracy'])"
      ],
      "execution_count": 0,
      "outputs": []
    },
    {
      "cell_type": "code",
      "metadata": {
        "id": "ukzkzS47rfTv",
        "colab_type": "code",
        "outputId": "5eadfee9-633c-43c1-ccbc-073a118cd3f6",
        "colab": {
          "base_uri": "https://localhost:8080/",
          "height": 381
        }
      },
      "source": [
        "history = model.fit(X_train_over, y_train_over,\n",
        "                    batch_size=1000,\n",
        "                    epochs=10,\n",
        "                    validation_split=0.2)"
      ],
      "execution_count": 0,
      "outputs": [
        {
          "output_type": "stream",
          "text": [
            "Train on 1214372 samples, validate on 303594 samples\n",
            "Epoch 1/10\n",
            "1214372/1214372 [==============================] - 8s 6us/sample - loss: 9.5833 - accuracy: 0.3750 - val_loss: 0.0000e+00 - val_accuracy: 1.0000\n",
            "Epoch 2/10\n",
            "1214372/1214372 [==============================] - 8s 6us/sample - loss: 9.5833 - accuracy: 0.3750 - val_loss: 0.0000e+00 - val_accuracy: 1.0000\n",
            "Epoch 3/10\n",
            "1214372/1214372 [==============================] - 7s 6us/sample - loss: 9.5833 - accuracy: 0.3750 - val_loss: 0.0000e+00 - val_accuracy: 1.0000\n",
            "Epoch 4/10\n",
            "1214372/1214372 [==============================] - 7s 6us/sample - loss: 9.5833 - accuracy: 0.3750 - val_loss: 0.0000e+00 - val_accuracy: 1.0000\n",
            "Epoch 5/10\n",
            "1214372/1214372 [==============================] - 7s 5us/sample - loss: 9.5833 - accuracy: 0.3750 - val_loss: 0.0000e+00 - val_accuracy: 1.0000\n",
            "Epoch 6/10\n",
            "1214372/1214372 [==============================] - 7s 6us/sample - loss: 9.5833 - accuracy: 0.3750 - val_loss: 0.0000e+00 - val_accuracy: 1.0000\n",
            "Epoch 7/10\n",
            "1214372/1214372 [==============================] - 7s 6us/sample - loss: 9.5833 - accuracy: 0.3750 - val_loss: 0.0000e+00 - val_accuracy: 1.0000\n",
            "Epoch 8/10\n",
            "1214372/1214372 [==============================] - 7s 5us/sample - loss: 9.5833 - accuracy: 0.3750 - val_loss: 0.0000e+00 - val_accuracy: 1.0000\n",
            "Epoch 9/10\n",
            "1214372/1214372 [==============================] - 7s 5us/sample - loss: 9.5833 - accuracy: 0.3750 - val_loss: 0.0000e+00 - val_accuracy: 1.0000\n",
            "Epoch 10/10\n",
            "1214372/1214372 [==============================] - 6s 5us/sample - loss: 9.5833 - accuracy: 0.3750 - val_loss: 0.0000e+00 - val_accuracy: 1.0000\n"
          ],
          "name": "stdout"
        }
      ]
    },
    {
      "cell_type": "markdown",
      "metadata": {
        "id": "JnjkvGlJumN5",
        "colab_type": "text"
      },
      "source": [
        "Evaluate the model."
      ]
    },
    {
      "cell_type": "code",
      "metadata": {
        "id": "G8p7X6Rnr0km",
        "colab_type": "code",
        "outputId": "8a5c1081-3949-42b0-f27b-052ba47d3bbf",
        "colab": {
          "base_uri": "https://localhost:8080/",
          "height": 52
        }
      },
      "source": [
        "test_scores = model.evaluate(X_test, y_test, verbose=0)\n",
        "\n",
        "print('Test loss:', test_scores[0])\n",
        "print('Test accuracy:', test_scores[1]*100,'%')"
      ],
      "execution_count": 0,
      "outputs": [
        {
          "output_type": "stream",
          "text": [
            "Test loss: 15.311610647583008\n",
            "Test accuracy: 0.14105263398960233 %\n"
          ],
          "name": "stdout"
        }
      ]
    }
  ]
}